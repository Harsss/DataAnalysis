{
 "cells": [
  {
   "cell_type": "code",
   "execution_count": 1,
   "metadata": {},
   "outputs": [],
   "source": [
    "import pandas as pd\n",
    "import numpy as np"
   ]
  },
  {
   "cell_type": "code",
   "execution_count": 2,
   "metadata": {},
   "outputs": [],
   "source": [
    "nag=pd.read_csv('nag.csv')"
   ]
  },
  {
   "cell_type": "code",
   "execution_count": 3,
   "metadata": {},
   "outputs": [
    {
     "data": {
      "text/plain": [
       "0                Graph Theory and Network Flow Problems\n",
       "1                                  Black Scholes Theory\n",
       "2                Graph Theory and Network Flow Problems\n",
       "3                             Study of COVID 19 using R\n",
       "4     Advanced topics in Algebra and Algebra through...\n",
       "                            ...                        \n",
       "66                                 Black Scholes Theory\n",
       "67          Applications of Fourier and Gabor Transform\n",
       "68                            Study of COVID 19 using R\n",
       "69          Applications of Fourier and Gabor Transform\n",
       "70     Applications of Abstract Mathematical Structures\n",
       "Name: First Preference, Length: 71, dtype: object"
      ]
     },
     "execution_count": 3,
     "metadata": {},
     "output_type": "execute_result"
    }
   ],
   "source": [
    "nag['First Preference']"
   ]
  },
  {
   "cell_type": "code",
   "execution_count": 4,
   "metadata": {},
   "outputs": [
    {
     "name": "stderr",
     "output_type": "stream",
     "text": [
      "c:\\users\\ssc\\appdata\\local\\programs\\python\\python37-32\\lib\\site-packages\\pandas\\core\\computation\\expressions.py:68: FutureWarning: elementwise comparison failed; returning scalar instead, but in the future will perform elementwise comparison\n",
      "  return op(a, b)\n"
     ]
    }
   ],
   "source": [
    "tp1=nag[nag.eq(\"Study of COVID 19 using R\").any(1)]"
   ]
  },
  {
   "cell_type": "code",
   "execution_count": 5,
   "metadata": {},
   "outputs": [],
   "source": [
    "cov=tp1['Email Address']"
   ]
  },
  {
   "cell_type": "code",
   "execution_count": 19,
   "metadata": {},
   "outputs": [
    {
     "data": {
      "text/plain": [
       "1            agastya.pulall@gmail.com\n",
       "3               13alessaann@gmail.com\n",
       "5            angus.alphonso@gmail.com\n",
       "7            annie.2001.jan@gmail.com\n",
       "11              jainbhanu99@gmail.com\n",
       "13               bhavyadua7@gmail.com\n",
       "14        broniamathews2001@gmail.com\n",
       "18         bhatidivyanshu27@gmail.com\n",
       "21            eshachandra20@gmail.com\n",
       "22               harshbin06@gmail.com\n",
       "24           talrejajatin15@gmail.com\n",
       "27           josephphilip01@gmail.com\n",
       "29         keertipanwar2001@gmail.com\n",
       "30                laelj2019@gmail.com\n",
       "31           lizaghazal0702@gmail.com\n",
       "32                 mahim136@gmail.com\n",
       "33          marwinsolomon10@gmail.com\n",
       "35            michymich1999@gmail.com\n",
       "36           mouliktas@rediffmail.com\n",
       "38           navyasarashine@gmail.com\n",
       "40          praachibhatia01@gmail.com\n",
       "41    chaturvedi.pragya2000@gmail.com\n",
       "42          priyeshshukla26@gmail.com\n",
       "45               gargrhea10@gmail.com\n",
       "47               roelgeorge@gmail.com\n",
       "50     samarthenoshharrison@gmail.com\n",
       "51         Sarthaksaluja641@gmail.com\n",
       "53            shayanakkundu@gmail.com\n",
       "54               shravya277@gmail.com\n",
       "55       siddharthsonkar976@gmail.com\n",
       "57         sinjinighosh2508@gmail.com\n",
       "58          smritikakumaran@gmail.com\n",
       "62                 sstutigg@gmail.com\n",
       "65            tanyaa.ghai.3@gmail.com\n",
       "68            vlchcha010101@gmail.com\n",
       "Name: Email Address, dtype: object"
      ]
     },
     "execution_count": 19,
     "metadata": {},
     "output_type": "execute_result"
    }
   ],
   "source": [
    "cov"
   ]
  },
  {
   "cell_type": "code",
   "execution_count": null,
   "metadata": {},
   "outputs": [],
   "source": []
  },
  {
   "cell_type": "code",
   "execution_count": 6,
   "metadata": {},
   "outputs": [
    {
     "name": "stderr",
     "output_type": "stream",
     "text": [
      "c:\\users\\ssc\\appdata\\local\\programs\\python\\python37-32\\lib\\site-packages\\pandas\\core\\computation\\expressions.py:68: FutureWarning: elementwise comparison failed; returning scalar instead, but in the future will perform elementwise comparison\n",
      "  return op(a, b)\n"
     ]
    }
   ],
   "source": [
    "tp2=nag[nag.eq(\"Hahn Theorem, Eigenvalues and Eigenvectors\").any(1)]"
   ]
  },
  {
   "cell_type": "code",
   "execution_count": 20,
   "metadata": {},
   "outputs": [
    {
     "data": {
      "text/plain": [
       "8        arunbosco2000@gmail.com\n",
       "17    deepakashsingh52@gmail.com\n",
       "22          harshbin06@gmail.com\n",
       "Name: Email Address, dtype: object"
      ]
     },
     "execution_count": 20,
     "metadata": {},
     "output_type": "execute_result"
    }
   ],
   "source": [
    "tp2['Email Address']"
   ]
  },
  {
   "cell_type": "code",
   "execution_count": 21,
   "metadata": {},
   "outputs": [
    {
     "name": "stderr",
     "output_type": "stream",
     "text": [
      "c:\\users\\ssc\\appdata\\local\\programs\\python\\python37-32\\lib\\site-packages\\pandas\\core\\computation\\expressions.py:68: FutureWarning: elementwise comparison failed; returning scalar instead, but in the future will perform elementwise comparison\n",
      "  return op(a, b)\n"
     ]
    },
    {
     "data": {
      "text/plain": [
       "0            aditikanojia07@gmail.com\n",
       "1            agastya.pulall@gmail.com\n",
       "2            akankshash2001@gmail.com\n",
       "10          athakkumarsingh@gmail.com\n",
       "11              jainbhanu99@gmail.com\n",
       "14        broniamathews2001@gmail.com\n",
       "18         bhatidivyanshu27@gmail.com\n",
       "21            eshachandra20@gmail.com\n",
       "22               harshbin06@gmail.com\n",
       "23              hiteshkr225@gmail.com\n",
       "30                laelj2019@gmail.com\n",
       "31           lizaghazal0702@gmail.com\n",
       "34        michaeldevasia921@gmail.com\n",
       "40          praachibhatia01@gmail.com\n",
       "41    chaturvedi.pragya2000@gmail.com\n",
       "45               gargrhea10@gmail.com\n",
       "46           riyasingla1480@gmail.com\n",
       "53            shayanakkundu@gmail.com\n",
       "68            vlchcha010101@gmail.com\n",
       "Name: Email Address, dtype: object"
      ]
     },
     "execution_count": 21,
     "metadata": {},
     "output_type": "execute_result"
    }
   ],
   "source": [
    "tp3=nag[nag.eq(\"Graph Theory and Network Flow Problems\").any(1)]\n",
    "tp3['Email Address']"
   ]
  },
  {
   "cell_type": "code",
   "execution_count": 22,
   "metadata": {},
   "outputs": [
    {
     "name": "stderr",
     "output_type": "stream",
     "text": [
      "c:\\users\\ssc\\appdata\\local\\programs\\python\\python37-32\\lib\\site-packages\\pandas\\core\\computation\\expressions.py:68: FutureWarning: elementwise comparison failed; returning scalar instead, but in the future will perform elementwise comparison\n",
      "  return op(a, b)\n"
     ]
    },
    {
     "data": {
      "text/plain": [
       "28        jedidiah232@gmail.com\n",
       "30          laelj2019@gmail.com\n",
       "31     lizaghazal0702@gmail.com\n",
       "37      muftitahashah@gmail.com\n",
       "44       reueldsouza6@gmail.com\n",
       "46     riyasingla1480@gmail.com\n",
       "48      rohanarora184@gmail.com\n",
       "56    sid.arora082001@gmail.com\n",
       "58    smritikakumaran@gmail.com\n",
       "59     snehajosephraj@gmail.com\n",
       "Name: Email Address, dtype: object"
      ]
     },
     "execution_count": 22,
     "metadata": {},
     "output_type": "execute_result"
    }
   ],
   "source": [
    "tp4=nag[nag.eq(\"Functional Analysis\").any(1)]\n",
    "tp4['Email Address']"
   ]
  },
  {
   "cell_type": "code",
   "execution_count": 23,
   "metadata": {},
   "outputs": [
    {
     "name": "stderr",
     "output_type": "stream",
     "text": [
      "c:\\users\\ssc\\appdata\\local\\programs\\python\\python37-32\\lib\\site-packages\\pandas\\core\\computation\\expressions.py:68: FutureWarning: elementwise comparison failed; returning scalar instead, but in the future will perform elementwise comparison\n",
      "  return op(a, b)\n"
     ]
    },
    {
     "data": {
      "text/plain": [
       "1        agastya.pulall@gmail.com\n",
       "5        angus.alphonso@gmail.com\n",
       "6           checkoutann@gmail.com\n",
       "7        annie.2001.jan@gmail.com\n",
       "11          jainbhanu99@gmail.com\n",
       "12          bhavya.ag03@gmail.com\n",
       "15    sgshreygupta13pbt@gmail.com\n",
       "26      johnfrancis123j@gmail.com\n",
       "34    michaeldevasia921@gmail.com\n",
       "37        muftitahashah@gmail.com\n",
       "40      praachibhatia01@gmail.com\n",
       "48        rohanarora184@gmail.com\n",
       "51     Sarthaksaluja641@gmail.com\n",
       "53        shayanakkundu@gmail.com\n",
       "56      sid.arora082001@gmail.com\n",
       "58      smritikakumaran@gmail.com\n",
       "62             sstutigg@gmail.com\n",
       "63           manisumit2@gmail.com\n",
       "65        tanyaa.ghai.3@gmail.com\n",
       "66    tarungeorgesamuel@gmail.com\n",
       "Name: Email Address, dtype: object"
      ]
     },
     "execution_count": 23,
     "metadata": {},
     "output_type": "execute_result"
    }
   ],
   "source": [
    "tp5=nag[nag.eq(\"Black Scholes Theory\").any(1)]\n",
    "tp5['Email Address']"
   ]
  },
  {
   "cell_type": "code",
   "execution_count": 24,
   "metadata": {},
   "outputs": [
    {
     "name": "stderr",
     "output_type": "stream",
     "text": [
      "c:\\users\\ssc\\appdata\\local\\programs\\python\\python37-32\\lib\\site-packages\\pandas\\core\\computation\\expressions.py:68: FutureWarning: elementwise comparison failed; returning scalar instead, but in the future will perform elementwise comparison\n",
      "  return op(a, b)\n"
     ]
    },
    {
     "data": {
      "text/plain": [
       "8           arunbosco2000@gmail.com\n",
       "9          mishraashu6566@gmail.com\n",
       "10        athakkumarsingh@gmail.com\n",
       "16           chander1609c@gmail.com\n",
       "25             inglejay36@gmail.com\n",
       "34      michaeldevasia921@gmail.com\n",
       "39           pauljr1363@outlook.com\n",
       "64           umam.uddin02@gmail.com\n",
       "67         mailtrisha1416@gmail.com\n",
       "69          gargvikalpraj@gmail.com\n",
       "70    yashashvivashishtha@gmail.com\n",
       "Name: Email Address, dtype: object"
      ]
     },
     "execution_count": 24,
     "metadata": {},
     "output_type": "execute_result"
    }
   ],
   "source": [
    "tp6=nag[nag.eq(\"Applications of Fourier and Gabor Transform\").any(1)]\n",
    "tp6['Email Address']"
   ]
  },
  {
   "cell_type": "code",
   "execution_count": 25,
   "metadata": {},
   "outputs": [
    {
     "name": "stderr",
     "output_type": "stream",
     "text": [
      "c:\\users\\ssc\\appdata\\local\\programs\\python\\python37-32\\lib\\site-packages\\pandas\\core\\computation\\expressions.py:68: FutureWarning: elementwise comparison failed; returning scalar instead, but in the future will perform elementwise comparison\n",
      "  return op(a, b)\n"
     ]
    },
    {
     "data": {
      "text/plain": [
       "8           arunbosco2000@gmail.com\n",
       "10        athakkumarsingh@gmail.com\n",
       "19        ericyanthan2019@gmail.com\n",
       "20        ericyanthan2019@gmail.com\n",
       "24         talrejajatin15@gmail.com\n",
       "28            jedidiah232@gmail.com\n",
       "34      michaeldevasia921@gmail.com\n",
       "37          muftitahashah@gmail.com\n",
       "43        pulkit.ak.gupta@gmail.com\n",
       "45             gargrhea10@gmail.com\n",
       "51       Sarthaksaluja641@gmail.com\n",
       "52            yousuf61997@gmail.com\n",
       "53          shayanakkundu@gmail.com\n",
       "60           srinwanti.dg@gmail.com\n",
       "61           srinwanti.dg@gmail.com\n",
       "64           umam.uddin02@gmail.com\n",
       "69          gargvikalpraj@gmail.com\n",
       "70    yashashvivashishtha@gmail.com\n",
       "Name: Email Address, dtype: object"
      ]
     },
     "execution_count": 25,
     "metadata": {},
     "output_type": "execute_result"
    }
   ],
   "source": [
    "tp7=nag[nag.eq(\"Applications of Abstract Mathematical Structures\").any(1)]\n",
    "tp7['Email Address']"
   ]
  },
  {
   "cell_type": "code",
   "execution_count": 26,
   "metadata": {},
   "outputs": [
    {
     "name": "stderr",
     "output_type": "stream",
     "text": [
      "c:\\users\\ssc\\appdata\\local\\programs\\python\\python37-32\\lib\\site-packages\\pandas\\core\\computation\\expressions.py:68: FutureWarning: elementwise comparison failed; returning scalar instead, but in the future will perform elementwise comparison\n",
      "  return op(a, b)\n"
     ]
    },
    {
     "data": {
      "text/plain": [
       "2           akankshash2001@gmail.com\n",
       "4              andreanerthi@gmai.com\n",
       "8            arunbosco2000@gmail.com\n",
       "30               laelj2019@gmail.com\n",
       "34       michaeldevasia921@gmail.com\n",
       "37           muftitahashah@gmail.com\n",
       "43         pulkit.ak.gupta@gmail.com\n",
       "49             Rohitnegism@gmail.com\n",
       "50    samarthenoshharrison@gmail.com\n",
       "52             yousuf61997@gmail.com\n",
       "53           shayanakkundu@gmail.com\n",
       "Name: Email Address, dtype: object"
      ]
     },
     "execution_count": 26,
     "metadata": {},
     "output_type": "execute_result"
    }
   ],
   "source": [
    "tp8=nag[nag.eq(\"Advanced topics in Algebra and Algebra through Software\").any(1)]\n",
    "tp8['Email Address']"
   ]
  },
  {
   "cell_type": "code",
   "execution_count": null,
   "metadata": {},
   "outputs": [],
   "source": []
  },
  {
   "cell_type": "code",
   "execution_count": 17,
   "metadata": {},
   "outputs": [
    {
     "data": {
      "text/html": [
       "<div>\n",
       "<style scoped>\n",
       "    .dataframe tbody tr th:only-of-type {\n",
       "        vertical-align: middle;\n",
       "    }\n",
       "\n",
       "    .dataframe tbody tr th {\n",
       "        vertical-align: top;\n",
       "    }\n",
       "\n",
       "    .dataframe thead th {\n",
       "        text-align: right;\n",
       "    }\n",
       "</style>\n",
       "<table border=\"1\" class=\"dataframe\">\n",
       "  <thead>\n",
       "    <tr style=\"text-align: right;\">\n",
       "      <th></th>\n",
       "      <th>index</th>\n",
       "      <th>Covid</th>\n",
       "      <th>Hahn</th>\n",
       "      <th>Graph Theory</th>\n",
       "      <th>Func Ana</th>\n",
       "      <th>Fourier</th>\n",
       "      <th>Maths Structure</th>\n",
       "      <th>BSt</th>\n",
       "      <th>Advance Algebra</th>\n",
       "    </tr>\n",
       "  </thead>\n",
       "  <tbody>\n",
       "    <tr>\n",
       "      <th>0</th>\n",
       "      <td>0</td>\n",
       "      <td>NaN</td>\n",
       "      <td>NaN</td>\n",
       "      <td>aditikanojia07@gmail.com</td>\n",
       "      <td>NaN</td>\n",
       "      <td>NaN</td>\n",
       "      <td>NaN</td>\n",
       "      <td>NaN</td>\n",
       "      <td>NaN</td>\n",
       "    </tr>\n",
       "    <tr>\n",
       "      <th>1</th>\n",
       "      <td>1</td>\n",
       "      <td>agastya.pulall@gmail.com</td>\n",
       "      <td>NaN</td>\n",
       "      <td>agastya.pulall@gmail.com</td>\n",
       "      <td>NaN</td>\n",
       "      <td>NaN</td>\n",
       "      <td>NaN</td>\n",
       "      <td>agastya.pulall@gmail.com</td>\n",
       "      <td>NaN</td>\n",
       "    </tr>\n",
       "    <tr>\n",
       "      <th>2</th>\n",
       "      <td>2</td>\n",
       "      <td>NaN</td>\n",
       "      <td>NaN</td>\n",
       "      <td>akankshash2001@gmail.com</td>\n",
       "      <td>NaN</td>\n",
       "      <td>NaN</td>\n",
       "      <td>NaN</td>\n",
       "      <td>NaN</td>\n",
       "      <td>akankshash2001@gmail.com</td>\n",
       "    </tr>\n",
       "    <tr>\n",
       "      <th>3</th>\n",
       "      <td>3</td>\n",
       "      <td>13alessaann@gmail.com</td>\n",
       "      <td>NaN</td>\n",
       "      <td>NaN</td>\n",
       "      <td>NaN</td>\n",
       "      <td>NaN</td>\n",
       "      <td>NaN</td>\n",
       "      <td>NaN</td>\n",
       "      <td>NaN</td>\n",
       "    </tr>\n",
       "    <tr>\n",
       "      <th>4</th>\n",
       "      <td>4</td>\n",
       "      <td>NaN</td>\n",
       "      <td>NaN</td>\n",
       "      <td>NaN</td>\n",
       "      <td>NaN</td>\n",
       "      <td>NaN</td>\n",
       "      <td>NaN</td>\n",
       "      <td>NaN</td>\n",
       "      <td>andreanerthi@gmai.com</td>\n",
       "    </tr>\n",
       "    <tr>\n",
       "      <th>...</th>\n",
       "      <td>...</td>\n",
       "      <td>...</td>\n",
       "      <td>...</td>\n",
       "      <td>...</td>\n",
       "      <td>...</td>\n",
       "      <td>...</td>\n",
       "      <td>...</td>\n",
       "      <td>...</td>\n",
       "      <td>...</td>\n",
       "    </tr>\n",
       "    <tr>\n",
       "      <th>66</th>\n",
       "      <td>66</td>\n",
       "      <td>NaN</td>\n",
       "      <td>NaN</td>\n",
       "      <td>NaN</td>\n",
       "      <td>NaN</td>\n",
       "      <td>NaN</td>\n",
       "      <td>NaN</td>\n",
       "      <td>tarungeorgesamuel@gmail.com</td>\n",
       "      <td>NaN</td>\n",
       "    </tr>\n",
       "    <tr>\n",
       "      <th>67</th>\n",
       "      <td>67</td>\n",
       "      <td>NaN</td>\n",
       "      <td>NaN</td>\n",
       "      <td>NaN</td>\n",
       "      <td>NaN</td>\n",
       "      <td>mailtrisha1416@gmail.com</td>\n",
       "      <td>NaN</td>\n",
       "      <td>NaN</td>\n",
       "      <td>NaN</td>\n",
       "    </tr>\n",
       "    <tr>\n",
       "      <th>68</th>\n",
       "      <td>68</td>\n",
       "      <td>vlchcha010101@gmail.com</td>\n",
       "      <td>NaN</td>\n",
       "      <td>vlchcha010101@gmail.com</td>\n",
       "      <td>NaN</td>\n",
       "      <td>NaN</td>\n",
       "      <td>NaN</td>\n",
       "      <td>NaN</td>\n",
       "      <td>NaN</td>\n",
       "    </tr>\n",
       "    <tr>\n",
       "      <th>69</th>\n",
       "      <td>69</td>\n",
       "      <td>NaN</td>\n",
       "      <td>NaN</td>\n",
       "      <td>NaN</td>\n",
       "      <td>NaN</td>\n",
       "      <td>gargvikalpraj@gmail.com</td>\n",
       "      <td>gargvikalpraj@gmail.com</td>\n",
       "      <td>NaN</td>\n",
       "      <td>NaN</td>\n",
       "    </tr>\n",
       "    <tr>\n",
       "      <th>70</th>\n",
       "      <td>70</td>\n",
       "      <td>NaN</td>\n",
       "      <td>NaN</td>\n",
       "      <td>NaN</td>\n",
       "      <td>NaN</td>\n",
       "      <td>yashashvivashishtha@gmail.com</td>\n",
       "      <td>yashashvivashishtha@gmail.com</td>\n",
       "      <td>NaN</td>\n",
       "      <td>NaN</td>\n",
       "    </tr>\n",
       "  </tbody>\n",
       "</table>\n",
       "<p>71 rows × 9 columns</p>\n",
       "</div>"
      ],
      "text/plain": [
       "    index                     Covid Hahn              Graph Theory Func Ana  \\\n",
       "0       0                       NaN  NaN  aditikanojia07@gmail.com      NaN   \n",
       "1       1  agastya.pulall@gmail.com  NaN  agastya.pulall@gmail.com      NaN   \n",
       "2       2                       NaN  NaN  akankshash2001@gmail.com      NaN   \n",
       "3       3     13alessaann@gmail.com  NaN                       NaN      NaN   \n",
       "4       4                       NaN  NaN                       NaN      NaN   \n",
       "..    ...                       ...  ...                       ...      ...   \n",
       "66     66                       NaN  NaN                       NaN      NaN   \n",
       "67     67                       NaN  NaN                       NaN      NaN   \n",
       "68     68   vlchcha010101@gmail.com  NaN   vlchcha010101@gmail.com      NaN   \n",
       "69     69                       NaN  NaN                       NaN      NaN   \n",
       "70     70                       NaN  NaN                       NaN      NaN   \n",
       "\n",
       "                          Fourier               Maths Structure   \\\n",
       "0                             NaN                            NaN   \n",
       "1                             NaN                            NaN   \n",
       "2                             NaN                            NaN   \n",
       "3                             NaN                            NaN   \n",
       "4                             NaN                            NaN   \n",
       "..                            ...                            ...   \n",
       "66                            NaN                            NaN   \n",
       "67       mailtrisha1416@gmail.com                            NaN   \n",
       "68                            NaN                            NaN   \n",
       "69        gargvikalpraj@gmail.com        gargvikalpraj@gmail.com   \n",
       "70  yashashvivashishtha@gmail.com  yashashvivashishtha@gmail.com   \n",
       "\n",
       "                           BSt            Advance Algebra  \n",
       "0                           NaN                       NaN  \n",
       "1      agastya.pulall@gmail.com                       NaN  \n",
       "2                           NaN  akankshash2001@gmail.com  \n",
       "3                           NaN                       NaN  \n",
       "4                           NaN     andreanerthi@gmai.com  \n",
       "..                          ...                       ...  \n",
       "66  tarungeorgesamuel@gmail.com                       NaN  \n",
       "67                          NaN                       NaN  \n",
       "68                          NaN                       NaN  \n",
       "69                          NaN                       NaN  \n",
       "70                          NaN                       NaN  \n",
       "\n",
       "[71 rows x 9 columns]"
      ]
     },
     "execution_count": 17,
     "metadata": {},
     "output_type": "execute_result"
    }
   ],
   "source": [
    "# frame = { 'Covid': cov, \n",
    "#          'Hahn': hahn,\n",
    "#          'Graph Theory' : graph,\n",
    "#          'Func Ana': Func,\n",
    "#          'Fourier': Fou,\n",
    "#          'Maths Structure ' : Str,\n",
    "#          'BSt ' : BST,\n",
    "#          'Advance Algebra' : Adv,\n",
    "        \n",
    "#         } \n",
    "  \n",
    "# result = pd.DataFrame(frame).reset_index()\n",
    "# result"
   ]
  },
  {
   "cell_type": "code",
   "execution_count": null,
   "metadata": {},
   "outputs": [],
   "source": []
  },
  {
   "cell_type": "code",
   "execution_count": 18,
   "metadata": {},
   "outputs": [
    {
     "data": {
      "text/plain": [
       "1            agastya.pulall@gmail.com\n",
       "3               13alessaann@gmail.com\n",
       "5            angus.alphonso@gmail.com\n",
       "7            annie.2001.jan@gmail.com\n",
       "11              jainbhanu99@gmail.com\n",
       "13               bhavyadua7@gmail.com\n",
       "14        broniamathews2001@gmail.com\n",
       "18         bhatidivyanshu27@gmail.com\n",
       "21            eshachandra20@gmail.com\n",
       "22               harshbin06@gmail.com\n",
       "24           talrejajatin15@gmail.com\n",
       "27           josephphilip01@gmail.com\n",
       "29         keertipanwar2001@gmail.com\n",
       "30                laelj2019@gmail.com\n",
       "31           lizaghazal0702@gmail.com\n",
       "32                 mahim136@gmail.com\n",
       "33          marwinsolomon10@gmail.com\n",
       "35            michymich1999@gmail.com\n",
       "36           mouliktas@rediffmail.com\n",
       "38           navyasarashine@gmail.com\n",
       "40          praachibhatia01@gmail.com\n",
       "41    chaturvedi.pragya2000@gmail.com\n",
       "42          priyeshshukla26@gmail.com\n",
       "45               gargrhea10@gmail.com\n",
       "47               roelgeorge@gmail.com\n",
       "50     samarthenoshharrison@gmail.com\n",
       "51         Sarthaksaluja641@gmail.com\n",
       "53            shayanakkundu@gmail.com\n",
       "54               shravya277@gmail.com\n",
       "55       siddharthsonkar976@gmail.com\n",
       "57         sinjinighosh2508@gmail.com\n",
       "58          smritikakumaran@gmail.com\n",
       "62                 sstutigg@gmail.com\n",
       "65            tanyaa.ghai.3@gmail.com\n",
       "68            vlchcha010101@gmail.com\n",
       "Name: Email Address, dtype: object"
      ]
     },
     "execution_count": 18,
     "metadata": {},
     "output_type": "execute_result"
    }
   ],
   "source": [
    "cov"
   ]
  },
  {
   "cell_type": "code",
   "execution_count": null,
   "metadata": {},
   "outputs": [],
   "source": []
  }
 ],
 "metadata": {
  "kernelspec": {
   "display_name": "Python 3",
   "language": "python",
   "name": "python3"
  },
  "language_info": {
   "codemirror_mode": {
    "name": "ipython",
    "version": 3
   },
   "file_extension": ".py",
   "mimetype": "text/x-python",
   "name": "python",
   "nbconvert_exporter": "python",
   "pygments_lexer": "ipython3",
   "version": "3.7.4"
  }
 },
 "nbformat": 4,
 "nbformat_minor": 4
}
